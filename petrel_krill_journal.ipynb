{
 "cells": [
  {
   "cell_type": "markdown",
   "metadata": {},
   "source": [
    "### Antarctic Petrels (Thalassoica antarctica) and Commercial Krill Fisheries\n",
    "#### Adapted from [Descamps et al 2016](\"dx.doi.org/10.5441/001/1.q4gn4q56\")\n",
    "\n",
    "TBD: \n",
    "* indicate url to the data source on movebank\n",
    "* come up with fancy project name\n"
   ]
  },
  {
   "cell_type": "code",
   "execution_count": 73,
   "metadata": {
    "collapsed": false
   },
   "outputs": [],
   "source": [
    "## Install & load necessary packages\n",
    "require(\"wildlifeDI\", \"adehabitatHR\", \"rgeos\")"
   ]
  },
  {
   "cell_type": "code",
   "execution_count": 78,
   "metadata": {
    "collapsed": false
   },
   "outputs": [],
   "source": [
    "## Load and read raw csv file from Google spreadsheet\n",
    "raw<-read.csv(\"https://docs.google.com/spreadsheets/d/1_otnWvOEi0AuVv5ETEwqbwTRY_32bch0PnlHlMGrIdE/pub?output=csv\")\n",
    "\n",
    "## Subset necessary fields\n",
    "petrel<-subset(raw, select=c(event.id, timestamp, location.long, location.lat, tag.local.identifier))\n",
    "\n",
    "## Attach proper names to the fields. Shorter the column name, less to type\n",
    "names(petrel)<-c(\"eid\", \"timestamp\", \"long\", \"lat\", \"tagid\")\n",
    "\n",
    "## eid=event.id\n",
    "## timestamp=timestamp\n",
    "## long=location.long\n",
    "## lat=location.lat\n",
    "## tagid=tag.local.identifier"
   ]
  },
  {
   "cell_type": "markdown",
   "metadata": {},
   "source": [
    "For the demonstration purposes, we check whether trajectories of two specimen (tagid=4182442 and 4182414) overlap.\n",
    "\n",
    "In order to do so, we generate a trace class for each bird (ltraj)"
   ]
  },
  {
   "cell_type": "code",
   "execution_count": 81,
   "metadata": {
    "collapsed": false
   },
   "outputs": [],
   "source": [
    "b4182442<-petrel[petrel$tagid==4182442,] ## Subset data for the specimen no. 4182442\n",
    "b4182414<-petrel[petrel$tagid==4182414,] ## Subset data for the specimen no. 4182414\n",
    "\n",
    "## Generate trajectories:\n",
    "bird4182442 <- as.ltraj(xy = b4182442[,c(\"long\",\"lat\")], date = as.Date.POSIXct(b4182442$timestamp),\n",
    "                id = \"eid\", typeII = FALSE)\n",
    "\n",
    "bird4182414 <- as.ltraj(xy = b4182414[,c(\"long\",\"lat\")], date = as.Date.POSIXct(b4182414$timestamp),\n",
    "                id = \"eid\", typeII = FALSE)"
   ]
  },
  {
   "cell_type": "code",
   "execution_count": 82,
   "metadata": {
    "collapsed": false
   },
   "outputs": [
    {
     "data": {
      "text/html": [
       "<dl>\n",
       "\t<dt>$TO</dt>\n",
       "\t\t<dd>TRUE</dd>\n",
       "\t<dt>$TOstart</dt>\n",
       "\t\t<dd>1</dd>\n",
       "\t<dt>$TOend</dt>\n",
       "\t\t<dd>335</dd>\n",
       "</dl>\n"
      ],
      "text/latex": [
       "\\begin{description}\n",
       "\\item[\\$TO] TRUE\n",
       "\\item[\\$TOstart] 1\n",
       "\\item[\\$TOend] 335\n",
       "\\end{description}\n"
      ],
      "text/markdown": [
       "$TO\n",
       ":   TRUE\n",
       "$TOstart\n",
       ":   1\n",
       "$TOend\n",
       ":   335\n",
       "\n",
       "\n"
      ],
      "text/plain": [
       "$TO\n",
       "[1] TRUE\n",
       "\n",
       "$TOstart\n",
       "[1] 1\n",
       "\n",
       "$TOend\n",
       "[1] 335\n"
      ]
     },
     "metadata": {},
     "output_type": "display_data"
    }
   ],
   "source": [
    "## Check whether trajectories overlap:\n",
    "\n",
    "checkTO(bird4182442,bird4182414)"
   ]
  },
  {
   "cell_type": "markdown",
   "metadata": {},
   "source": [
    "## To do by all means:\n",
    "* Static interactions between birds (all individuals)\n",
    "- Home ranges (for each individual)\n",
    "* Visually represent\n",
    "- Dynamic overlap?\n",
    "- Visual representation of overlaps for each individual (or selected?)\n"
   ]
  },
  {
   "cell_type": "markdown",
   "metadata": {},
   "source": [
    "## What we can do ideally:\n",
    "* Some nice dynamic visualization (e.g. d3?)\n",
    "* Dynamic interaction\n",
    "* Analysis using anciliary data (light levels?)"
   ]
  }
 ],
 "metadata": {
  "anaconda-cloud": {},
  "kernelspec": {
   "display_name": "R",
   "language": "R",
   "name": "ir"
  },
  "language_info": {
   "codemirror_mode": "r",
   "file_extension": ".r",
   "mimetype": "text/x-r-source",
   "name": "R",
   "pygments_lexer": "r",
   "version": "3.3.1"
  }
 },
 "nbformat": 4,
 "nbformat_minor": 0
}
